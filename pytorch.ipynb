{
  "nbformat": 4,
  "nbformat_minor": 0,
  "metadata": {
    "colab": {
      "provenance": [],
      "gpuType": "T4",
      "authorship_tag": "ABX9TyMbahzhMIGGFf2vd1lA5z5g",
      "include_colab_link": true
    },
    "kernelspec": {
      "name": "python3",
      "display_name": "Python 3"
    },
    "language_info": {
      "name": "python"
    },
    "accelerator": "GPU"
  },
  "cells": [
    {
      "cell_type": "markdown",
      "metadata": {
        "id": "view-in-github",
        "colab_type": "text"
      },
      "source": [
        "<a href=\"https://colab.research.google.com/github/nokutungwa/PyTorch/blob/main/pytorch.ipynb\" target=\"_parent\"><img src=\"https://colab.research.google.com/assets/colab-badge.svg\" alt=\"Open In Colab\"/></a>"
      ]
    },
    {
      "cell_type": "code",
      "source": [
        "import torch\n",
        "import numpy as np\n",
        "#python lists\n",
        "my_list = [[1,2,3,4,5],[1,2,3,4]]\n",
        "my_list\n",
        "np1 = np.random.rand(3,4)\n",
        "np1\n",
        "tensor_2d = torch.randn(3,4)\n",
        "tensor_2d\n",
        "tensor_3d = torch.zeros(3,3,4)\n",
        "tensor_3d\n",
        "# create tensor out of numpy array\n",
        "my_tensor = torch.tensor(np1)\n",
        "my_tensor\n"
      ],
      "metadata": {
        "id": "1Krcjq9G5nIW",
        "colab": {
          "base_uri": "https://localhost:8080/"
        },
        "outputId": "878f115b-7c93-4fe5-f0cd-a7ba86c7f858"
      },
      "execution_count": 37,
      "outputs": [
        {
          "output_type": "execute_result",
          "data": {
            "text/plain": [
              "tensor([[0.6320, 0.7186, 0.6580, 0.0498],\n",
              "        [0.4669, 0.1837, 0.9906, 0.3576],\n",
              "        [0.9359, 0.9385, 0.6347, 0.3998]], dtype=torch.float64)"
            ]
          },
          "metadata": {},
          "execution_count": 37
        }
      ]
    },
    {
      "cell_type": "code",
      "source": [
        "#tensor operations\n",
        "import torch\n",
        "my_torch = torch.arange(10)\n",
        "my_torch\n",
        "\n",
        "#reshape and view\n",
        "my_torch = my_torch.reshape(2,5)\n",
        "my_torch\n",
        "#reshape if we dont know the number of items using -1\n",
        "my_torch2 = torch.arange(10)\n",
        "my_torch2 = my_torch2.reshape(2,-1)\n",
        "my_torch2"
      ],
      "metadata": {
        "id": "apTv_ZrJ-w99",
        "outputId": "c1fa3010-608a-4de5-eec0-999cb9fd7cd8",
        "colab": {
          "base_uri": "https://localhost:8080/"
        }
      },
      "execution_count": 41,
      "outputs": [
        {
          "output_type": "execute_result",
          "data": {
            "text/plain": [
              "tensor([[0, 1, 2, 3, 4],\n",
              "        [5, 6, 7, 8, 9]])"
            ]
          },
          "metadata": {},
          "execution_count": 41
        }
      ]
    },
    {
      "cell_type": "code",
      "source": [],
      "metadata": {
        "id": "dpCUOPIg47DB"
      },
      "execution_count": null,
      "outputs": []
    }
  ]
}