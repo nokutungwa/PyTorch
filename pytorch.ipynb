{
  "nbformat": 4,
  "nbformat_minor": 0,
  "metadata": {
    "colab": {
      "provenance": [],
      "gpuType": "T4",
      "authorship_tag": "ABX9TyNCIMECfGG/FFK+UCkKJIOr",
      "include_colab_link": true
    },
    "kernelspec": {
      "name": "python3",
      "display_name": "Python 3"
    },
    "language_info": {
      "name": "python"
    },
    "accelerator": "GPU"
  },
  "cells": [
    {
      "cell_type": "markdown",
      "metadata": {
        "id": "view-in-github",
        "colab_type": "text"
      },
      "source": [
        "<a href=\"https://colab.research.google.com/github/nokutungwa/PyTorch/blob/main/pytorch.ipynb\" target=\"_parent\"><img src=\"https://colab.research.google.com/assets/colab-badge.svg\" alt=\"Open In Colab\"/></a>"
      ]
    },
    {
      "cell_type": "code",
      "source": [
        "import torch\n",
        "import numpy as np\n",
        "#python lists\n",
        "my_list = [[1,2,3,4,5],[1,2,3,4]]\n",
        "my_list\n",
        "np1 = np.random.rand(3,4)\n",
        "np1\n",
        "tensor_2d = torch.randn(3,4)\n",
        "tensor_2d\n",
        "tensor_3d = torch.zeros(3,3,4)\n",
        "tensor_3d\n",
        "# create tensor out of numpy array\n",
        "my_tensor = torch.tensor(np1)\n",
        "my_tensor\n"
      ],
      "metadata": {
        "id": "1Krcjq9G5nIW",
        "colab": {
          "base_uri": "https://localhost:8080/"
        },
        "outputId": "878f115b-7c93-4fe5-f0cd-a7ba86c7f858"
      },
      "execution_count": null,
      "outputs": [
        {
          "output_type": "execute_result",
          "data": {
            "text/plain": [
              "tensor([[0.6320, 0.7186, 0.6580, 0.0498],\n",
              "        [0.4669, 0.1837, 0.9906, 0.3576],\n",
              "        [0.9359, 0.9385, 0.6347, 0.3998]], dtype=torch.float64)"
            ]
          },
          "metadata": {},
          "execution_count": 37
        }
      ]
    },
    {
      "cell_type": "code",
      "source": [
        "#tensor operations\n",
        "import torch\n",
        "my_torch = torch.arange(10)\n",
        "my_torch\n",
        "\n",
        "#reshape and view\n",
        "my_torch = my_torch.reshape(2,5)\n",
        "my_torch\n",
        "#reshape if we dont know the number of items using -1\n",
        "my_torch2 = torch.arange(10)\n",
        "my_torch2 = my_torch2.reshape(2,-1)\n",
        "my_torch2"
      ],
      "metadata": {
        "id": "apTv_ZrJ-w99",
        "outputId": "0fe82814-9060-446a-b347-f4176d8a7d98",
        "colab": {
          "base_uri": "https://localhost:8080/"
        }
      },
      "execution_count": 2,
      "outputs": [
        {
          "output_type": "execute_result",
          "data": {
            "text/plain": [
              "tensor([[0, 1, 2, 3, 4],\n",
              "        [5, 6, 7, 8, 9]])"
            ]
          },
          "metadata": {},
          "execution_count": 2
        }
      ]
    },
    {
      "cell_type": "code",
      "source": [
        "import torch\n",
        "mytorch = torch.arange(20)\n",
        "mytorch\n",
        "\n",
        "mytorch = mytorch.reshape(5,-1)\n",
        "mytorch\n"
      ],
      "metadata": {
        "id": "dpCUOPIg47DB",
        "colab": {
          "base_uri": "https://localhost:8080/"
        },
        "outputId": "b8caf7d9-9b79-4b8f-ef68-c8aa267d8225"
      },
      "execution_count": 17,
      "outputs": [
        {
          "output_type": "execute_result",
          "data": {
            "text/plain": [
              "tensor([[ 0,  1,  2,  3],\n",
              "        [ 4,  5,  6,  7],\n",
              "        [ 8,  9, 10, 11],\n",
              "        [12, 13, 14, 15],\n",
              "        [16, 17, 18, 19]])"
            ]
          },
          "metadata": {},
          "execution_count": 17
        }
      ]
    },
    {
      "cell_type": "code",
      "source": [
        "mytorch1 = torch.arange(10)\n",
        "mytorch1\n",
        "mytorch1[2]= 345\n",
        "mytorch1\n",
        "mytorch1[3]\n",
        "\n"
      ],
      "metadata": {
        "colab": {
          "base_uri": "https://localhost:8080/"
        },
        "id": "kcIz3Sixyxeo",
        "outputId": "fa0aac7a-9eea-4fe3-d764-9f6709f6d411"
      },
      "execution_count": 24,
      "outputs": [
        {
          "output_type": "execute_result",
          "data": {
            "text/plain": [
              "tensor(3)"
            ]
          },
          "metadata": {},
          "execution_count": 24
        }
      ]
    },
    {
      "cell_type": "code",
      "source": [
        "import torch\n",
        "import numpy as np\n",
        "tensora = torch.tensor([1,2,3,4,5])\n",
        "tensorb = torch.tensor([7,2,6,4,5])\n",
        "tensora + tensorb\n",
        "\n",
        "tensora - tensorb\n",
        "\n"
      ],
      "metadata": {
        "colab": {
          "base_uri": "https://localhost:8080/"
        },
        "id": "6KcP6-Ql0fz7",
        "outputId": "0594ad4c-f2b8-4e6a-ca7b-8456963c1d5e"
      },
      "execution_count": 36,
      "outputs": [
        {
          "output_type": "execute_result",
          "data": {
            "text/plain": [
              "tensor([-6,  0, -3,  0,  0])"
            ]
          },
          "metadata": {},
          "execution_count": 36
        }
      ]
    },
    {
      "cell_type": "code",
      "source": [
        "#sub function\n",
        "torch.sub(tensora,tensorb)\n"
      ],
      "metadata": {
        "colab": {
          "base_uri": "https://localhost:8080/"
        },
        "id": "KDYEm2Z81en7",
        "outputId": "64735d66-bf7e-4ae8-f68a-34f03ae7eebc"
      },
      "execution_count": 28,
      "outputs": [
        {
          "output_type": "execute_result",
          "data": {
            "text/plain": [
              "tensor([0, 0, 0, 0, 0])"
            ]
          },
          "metadata": {},
          "execution_count": 28
        }
      ]
    },
    {
      "cell_type": "code",
      "source": [
        "tensora*tensorb\n"
      ],
      "metadata": {
        "colab": {
          "base_uri": "https://localhost:8080/"
        },
        "id": "nJTNzswl1qga",
        "outputId": "ae601260-1a92-418f-b22c-e22eecd7f6d7"
      },
      "execution_count": 29,
      "outputs": [
        {
          "output_type": "execute_result",
          "data": {
            "text/plain": [
              "tensor([ 1,  4,  9, 16, 25])"
            ]
          },
          "metadata": {},
          "execution_count": 29
        }
      ]
    },
    {
      "cell_type": "code",
      "source": [
        "#division\n",
        "tensorb/tensora\n"
      ],
      "metadata": {
        "colab": {
          "base_uri": "https://localhost:8080/"
        },
        "id": "om5QIygZ1xEr",
        "outputId": "9f45e17b-854c-4ec2-b27e-bf91942708ec"
      },
      "execution_count": 38,
      "outputs": [
        {
          "output_type": "execute_result",
          "data": {
            "text/plain": [
              "tensor([7., 1., 2., 1., 1.])"
            ]
          },
          "metadata": {},
          "execution_count": 38
        }
      ]
    },
    {
      "cell_type": "code",
      "source": [
        "#reminder\n",
        "tensorb%tensora\n",
        "torch.remainder(tensorb,tensora)\n",
        "\n"
      ],
      "metadata": {
        "colab": {
          "base_uri": "https://localhost:8080/"
        },
        "id": "nhkJ2UPg18_N",
        "outputId": "d2c8d6c8-fefa-4756-9827-2b6217ea6e1c"
      },
      "execution_count": 41,
      "outputs": [
        {
          "output_type": "execute_result",
          "data": {
            "text/plain": [
              "tensor([0, 0, 0, 0, 0])"
            ]
          },
          "metadata": {},
          "execution_count": 41
        }
      ]
    },
    {
      "cell_type": "code",
      "source": [
        "#exponents\n",
        "torch.pow(tensora,tensorb)\n"
      ],
      "metadata": {
        "colab": {
          "base_uri": "https://localhost:8080/"
        },
        "id": "P_JkqEZf2XZU",
        "outputId": "5bcc7fac-72d3-494e-9921-82426a8e9b98"
      },
      "execution_count": 42,
      "outputs": [
        {
          "output_type": "execute_result",
          "data": {
            "text/plain": [
              "tensor([   1,    4,  729,  256, 3125])"
            ]
          },
          "metadata": {},
          "execution_count": 42
        }
      ]
    },
    {
      "cell_type": "code",
      "source": [
        "#reassignment\n",
        "tensora + tensorb\n"
      ],
      "metadata": {
        "id": "gom3itrl2mld",
        "outputId": "0ecd4de5-0320-41bb-c32b-368d694ba882",
        "colab": {
          "base_uri": "https://localhost:8080/"
        }
      },
      "execution_count": 43,
      "outputs": [
        {
          "output_type": "execute_result",
          "data": {
            "text/plain": [
              "tensor([ 8,  4,  9,  8, 10])"
            ]
          },
          "metadata": {},
          "execution_count": 43
        }
      ]
    },
    {
      "cell_type": "code",
      "source": [
        "tensora.add(tensorb)\n"
      ],
      "metadata": {
        "id": "Y9DtzqWd2xab",
        "outputId": "c8e40f1e-4bcb-4a1c-fd53-c60e062676a6",
        "colab": {
          "base_uri": "https://localhost:8080/"
        }
      },
      "execution_count": 44,
      "outputs": [
        {
          "output_type": "execute_result",
          "data": {
            "text/plain": [
              "tensor([ 8,  4,  9,  8, 10])"
            ]
          },
          "metadata": {},
          "execution_count": 44
        }
      ]
    },
    {
      "cell_type": "code",
      "source": [
        "#basic neural network\n",
        "import torch\n",
        "import torch.nn as nn\n",
        "import torch.nn.functional as F\n"
      ],
      "metadata": {
        "id": "Gv5RJ7Oe3Kje"
      },
      "execution_count": 45,
      "outputs": []
    },
    {
      "cell_type": "code",
      "source": [
        "#create a Model class that inherits nn.module\n",
        "class Model(nn.Module):\n",
        "  #input layer( 4 features of the flower) ->\n",
        "  #hidden layer(number of neurons) ->\n",
        "  #output layer\n",
        "  def __init__(self, in_features=4, h1 =8 , h2 =9, out_features=3):\n",
        "    super().__init__() #instantiate our nn.Module\n",
        "    self.fc1 = nn.Linear(in_features,h1)\n",
        "    self.fc2 = nn.Linear(h1,h2)\n",
        "    self.out = nn.Linear(h2, out_features)\n",
        "\n",
        "  def forward(self, x):\n",
        "    #rectified linear unit\n",
        "    x = F.relu(self.fc1(x))\n",
        "    x = F.relu(self.fc2(x))\n",
        "    x = self.out(x)\n",
        "\n",
        "    return x\n",
        "\n"
      ],
      "metadata": {
        "id": "MgTk6Ihb4-z1"
      },
      "execution_count": 58,
      "outputs": []
    },
    {
      "cell_type": "code",
      "source": [
        "# pick a manual seed for randomisation\n",
        "torch.manual_seed(41)\n",
        "#create an instance for the model\n",
        "model = Model()\n",
        "\n"
      ],
      "metadata": {
        "id": "vcXlWF616v-N"
      },
      "execution_count": 60,
      "outputs": []
    }
  ]
}