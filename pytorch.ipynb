{
  "nbformat": 4,
  "nbformat_minor": 0,
  "metadata": {
    "colab": {
      "provenance": [],
      "gpuType": "T4",
      "authorship_tag": "ABX9TyNLDOhwt9SBPLko1k7cc2uR",
      "include_colab_link": true
    },
    "kernelspec": {
      "name": "python3",
      "display_name": "Python 3"
    },
    "language_info": {
      "name": "python"
    },
    "accelerator": "GPU"
  },
  "cells": [
    {
      "cell_type": "markdown",
      "metadata": {
        "id": "view-in-github",
        "colab_type": "text"
      },
      "source": [
        "<a href=\"https://colab.research.google.com/github/nokutungwa/PyTorch/blob/main/pytorch.ipynb\" target=\"_parent\"><img src=\"https://colab.research.google.com/assets/colab-badge.svg\" alt=\"Open In Colab\"/></a>"
      ]
    },
    {
      "cell_type": "code",
      "source": [
        "import torch\n",
        "import numpy as np\n",
        "#python lists\n",
        "my_list = [[1,2,3,4,5],[1,2,3,4]]\n",
        "my_list\n",
        "np1 = np.random.rand(3,4)\n",
        "np1\n"
      ],
      "metadata": {
        "id": "1Krcjq9G5nIW",
        "colab": {
          "base_uri": "https://localhost:8080/"
        },
        "outputId": "f5b7b039-0525-41ee-a9e3-4c95b35ca9d9"
      },
      "execution_count": 5,
      "outputs": [
        {
          "output_type": "execute_result",
          "data": {
            "text/plain": [
              "array([[0.74185884, 0.97266395, 0.23543785, 0.95481432],\n",
              "       [0.46256023, 0.72898891, 0.88561825, 0.57102498],\n",
              "       [0.48221887, 0.47129656, 0.5396158 , 0.79612829]])"
            ]
          },
          "metadata": {},
          "execution_count": 5
        }
      ]
    },
    {
      "cell_type": "code",
      "source": [],
      "metadata": {
        "id": "dpCUOPIg47DB"
      },
      "execution_count": 5,
      "outputs": []
    }
  ]
}